{
 "cells": [
  {
   "cell_type": "code",
   "execution_count": 1,
   "metadata": {},
   "outputs": [],
   "source": [
    "import numpy as np\n",
    "import matplotlib.pyplot as plt\n",
    "from brian2 import nA, pA, amp, ms, us, SpikeMonitor, StateMonitor, SpikeGeneratorGroup\n",
    "from teili import TeiliNetwork\n",
    "from teili.core.groups import Neurons, Connections\n",
    "from teili.models.neuron_models import DPI\n",
    "from teili.models.synapse_models import DPISyn\n",
    "from utils.reservoir import getTauCurrent"
   ]
  },
  {
   "cell_type": "code",
   "execution_count": 2,
   "metadata": {},
   "outputs": [],
   "source": [
    "time_stim = 100*ms\n",
    "num_spikes = 100\n",
    "freq = num_spikes/time_stim\n",
    "indices =[0 for i in range(num_spikes)]\n",
    "times = [(i+1)*(1/freq) for i in range(num_spikes)]"
   ]
  },
  {
   "cell_type": "code",
   "execution_count": 3,
   "metadata": {},
   "outputs": [
    {
     "data": {
      "text/plain": [
       "<matplotlib.collections.LineCollection at 0x7f6ccc3ca0f0>"
      ]
     },
     "execution_count": 3,
     "metadata": {},
     "output_type": "execute_result"
    },
    {
     "data": {
      "image/png": "[encoded data removed]",
      "text/plain": [
       "<Figure size 864x648 with 1 Axes>"
      ]
     },
     "metadata": {
      "needs_background": "light"
     },
     "output_type": "display_data"
    }
   ],
   "source": [
    "plt.figure(figsize=(12, 9))\n",
    "plt.vlines(times/ms, ymin=0.0, ymax=1.0)"
   ]
  },
  {
   "cell_type": "code",
   "execution_count": 4,
   "metadata": {},
   "outputs": [],
   "source": [
    "generator = SpikeGeneratorGroup(1, indices, times, name='generator')"
   ]
  },
  {
   "cell_type": "code",
   "execution_count": 5,
   "metadata": {},
   "outputs": [],
   "source": [
    "N = 10\n",
    "neurons = Neurons(N, equation_builder=DPI(num_inputs=2), refractory=0.0*ms, name='neurons')\n",
    "neurons.Iahp = 0.5*pA\n",
    "neurons.Itau = [(i+1)*2*pA for i in range(N)]"
   ]
  },
  {
   "cell_type": "code",
   "execution_count": 6,
   "metadata": {},
   "outputs": [],
   "source": [
    "synapses = Connections(generator, neurons, equation_builder=DPISyn(), method='euler', name='synapses')\n",
    "synapses.connect(i=0, j=[i for i in range(N)])\n",
    "synapses.weight = 500"
   ]
  },
  {
   "cell_type": "code",
   "execution_count": 7,
   "metadata": {},
   "outputs": [],
   "source": [
    "spike_monitor = SpikeMonitor(neurons, name='spike_monitor')\n",
    "state_monitor = StateMonitor(neurons, ['Imem'], name='state_monitor', record=True)"
   ]
  },
  {
   "cell_type": "code",
   "execution_count": 8,
   "metadata": {},
   "outputs": [],
   "source": [
    "network = TeiliNetwork()\n",
    "network.add([generator, neurons, synapses, spike_monitor, state_monitor])"
   ]
  },
  {
   "cell_type": "code",
   "execution_count": 9,
   "metadata": {},
   "outputs": [],
   "source": [
    "network.run(time_stim)"
   ]
  },
  {
   "cell_type": "code",
   "execution_count": 10,
   "metadata": {},
   "outputs": [
    {
     "data": {
      "text/plain": [
       "<matplotlib.collections.LineCollection at 0x7f6c6842db38>"
      ]
     },
     "execution_count": 10,
     "metadata": {},
     "output_type": "execute_result"
    },
    {
     "data": {
      "image/png": "[encoded data removed]",
      "text/plain": [
       "<Figure size 864x648 with 1 Axes>"
      ]
     },
     "metadata": {
      "needs_background": "light"
     },
     "output_type": "display_data"
    }
   ],
   "source": [
    "plt.figure(figsize=(12, 9))\n",
    "for n in range(N):\n",
    "    idx = spike_monitor.i==n\n",
    "    plt.vlines(spike_monitor.t[idx]/ms, ymin=n, ymax=n+1, linewidth=1)\n",
    "plt.vlines(times/ms, ymin=-1.0, ymax=0.0, color='red', linewidth=1)"
   ]
  }
 ],
 "metadata": {
  "kernelspec": {
   "display_name": "Python 3",
   "language": "python",
   "name": "python3"
  },
  "language_info": {
   "codemirror_mode": {
    "name": "ipython",
    "version": 3
   },
   "file_extension": ".py",
   "mimetype": "text/x-python",
   "name": "python",
   "nbconvert_exporter": "python",
   "pygments_lexer": "ipython3",
   "version": "3.7.1"
  }
 },
 "nbformat": 4,
 "nbformat_minor": 2
}
